{
  "nbformat": 4,
  "nbformat_minor": 0,
  "metadata": {
    "colab": {
      "provenance": [],
      "gpuType": "T4"
    },
    "kernelspec": {
      "name": "python3",
      "display_name": "Python 3"
    },
    "language_info": {
      "name": "python"
    }
  },
  "cells": [
    {
      "cell_type": "markdown",
      "source": [
        "**AKTIVASI GOOGLE DRIVE**"
      ],
      "metadata": {
        "id": "zXzEjdZ3C9jI"
      }
    },
    {
      "cell_type": "code",
      "source": [
        "from google.colab import drive\n",
        "import os\n",
        "import zipfile\n",
        "\n",
        "# Tentukan path file zip\n",
        "zip_path = '/content/DATASET.zip'  # Ganti dengan path file zip yang sesuai\n",
        "\n",
        "# Ekstrak file zip\n",
        "with zipfile.ZipFile(zip_path, 'r') as zip_ref:\n",
        "    zip_ref.extractall('/content/')  # Ganti dengan folder tujuan ekstraksi yang diinginkan\n",
        "\n",
        "# Menghubungkan ke Google Drive\n",
        "#drive.mount('/content/drive')\n",
        "\n",
        "# Menentukan path lengkap ke dataset di Google Drive\n",
        "#dataset_dir = '/content/drive/MyDrive/DATASET'\n",
        "\n"
      ],
      "metadata": {
        "id": "7zRTTm4RHKvv"
      },
      "execution_count": 19,
      "outputs": []
    },
    {
      "cell_type": "markdown",
      "source": [
        "**CEK FOLDER**"
      ],
      "metadata": {
        "id": "PcytCydCD_Od"
      }
    },
    {
      "cell_type": "code",
      "source": [
        "!ls \"/content/\"\n",
        "# "
      ],
      "metadata": {
        "id": "Z2fWWN-HEIKh",
        "outputId": "c8a5c2ae-044c-4c98-8167-500d766fa4df",
        "colab": {
          "base_uri": "https://localhost:8080/"
        }
      },
      "execution_count": 20,
      "outputs": [
        {
          "output_type": "stream",
          "name": "stdout",
          "text": [
            "DATASET  DATASET1  DATASET.zip\tsample_data\n"
          ]
        }
      ]
    },
    {
      "cell_type": "markdown",
      "source": [
        "**SET DIRECTORY**"
      ],
      "metadata": {
        "id": "_x8L1i9JFUxx"
      }
    },
    {
      "cell_type": "code",
      "source": [
        "import os\n",
        "base_dir = \"/content/DATASET\"\n",
        "\n",
        "\n",
        "train_dir = os.path.join(base_dir, 'TRAIN')\n",
        "validation_dir = os.path.join(base_dir, 'VALIDATION')\n",
        "\n",
        "\n",
        "#TRAIN\n",
        "train_whitespot_dir = os.path.join(train_dir, 'WHITESPOT')\n",
        "#train_aeromonas_dir = os.path.join(train_dir, 'AEROMONAS')\n",
        "train_backterialfin_dir = os.path.join(train_dir, 'BACTERIALFIN')\n",
        "train_redspot_dir = os.path.join(train_dir, 'REDSPOT')\n",
        "train_healthy_dir = os.path.join(train_dir, 'HEALTHY')\n",
        "\n",
        "#VALIDATION\n",
        "validation_whitespot_dir = os.path.join(train_dir, 'WHITESPOT')\n",
        "#validation_aeromonas_dir = os.path.join(train_dir, 'AEROMONAS')\n",
        "validation_backterialfin_dir = os.path.join(train_dir, 'BACTERIALFIN')\n",
        "validation_redspot_dir = os.path.join(train_dir, 'REDSPOT')\n",
        "validation_healthy_dir = os.path.join(train_dir, 'HEALTHY')\n",
        "\n",
        "#TEST\n",
        "#test_dir = os.path.join(base_dir, 'TEST')\n"
      ],
      "metadata": {
        "id": "YSV0B1d-LTFP"
      },
      "execution_count": 22,
      "outputs": []
    },
    {
      "cell_type": "code",
      "source": [
        "print(\"Contents of base directory:\")\n",
        "print(os.listdir(base_dir))"
      ],
      "metadata": {
        "colab": {
          "base_uri": "https://localhost:8080/"
        },
        "id": "fdxBfYnmLmdb",
        "outputId": "d026b2f0-bc93-4442-99cd-c9bef4d8af5c"
      },
      "execution_count": 23,
      "outputs": [
        {
          "output_type": "stream",
          "name": "stdout",
          "text": [
            "Contents of base directory:\n",
            "['TEST', 'TRAIN', 'VALIDATION']\n"
          ]
        }
      ]
    },
    {
      "cell_type": "markdown",
      "source": [
        "**CEK ISI DATASET**"
      ],
      "metadata": {
        "id": "QRjcxk0xIfGe"
      }
    },
    {
      "cell_type": "code",
      "source": [
        "train_whitespot_fnames = os.listdir(train_whitespot_dir)\n",
        "print(train_whitespot_fnames[:5])\n",
        "\n",
        "#train_aeromonas_fnames = os.listdir(train_aeromonas_dir)\n",
        "#print(train_aeromonas_fnames[:5])\n",
        "\n",
        "train_bacterial_fnames = os.listdir(train_backterialfin_dir)\n",
        "print(train_bacterial_fnames[:5])\n",
        "\n",
        "#==========================================\n",
        "\n",
        "print('total training WHITESPOT images:', len(os.listdir(train_whitespot_dir)))\n",
        "#print('total training AEROMONAS images:', len(os.listdir(train_aeromonas_dir)))\n",
        "print('total training BACTERIALFIN images:', len(os.listdir(train_backterialfin_dir)))\n",
        "print('total training REDSPOT images:', len(os.listdir(train_redspot_dir)))\n",
        "print('total training HEALTHY images:', len(os.listdir(train_healthy_dir)))"
      ],
      "metadata": {
        "colab": {
          "base_uri": "https://localhost:8080/"
        },
        "id": "9XoMDgp7HYMr",
        "outputId": "03a2e32b-b330-496e-9543-70b2d3cbb8e0"
      },
      "execution_count": 24,
      "outputs": [
        {
          "output_type": "stream",
          "name": "stdout",
          "text": [
            "['A.jfif', 'download (9).jpg', 'images (17).jpg', 'download (1).jpg', 'Copy of white-spot-pada-ikan.jpg']\n",
            "['A.jfif', '4.JPG', 'motile-aeromonas-septicemia.JPG', '1.JPG']\n",
            "total training WHITESPOT images: 38\n",
            "total training BACTERIALFIN images: 4\n",
            "total training REDSPOT images: 29\n",
            "total training HEALTHY images: 20\n"
          ]
        }
      ]
    },
    {
      "cell_type": "code",
      "source": [
        "from tensorflow.keras.preprocessing.image import ImageDataGenerator\n",
        "\n",
        "# Membuat objek ImageDataGenerator dengan konfigurasi augmentasi gambar\n",
        "train_datagen = ImageDataGenerator(\n",
        "    rescale=1./255,  # Skala piksel ke range 0-1\n",
        "    rotation_range=20,  # Rotasi gambar dalam range 20 derajat\n",
        "    width_shift_range=0.2,  # Geser gambar secara horizontal\n",
        "    height_shift_range=0.2,  # Geser gambar secara vertikal\n",
        "    shear_range=0.2,  # Menggeser gambar secara shear\n",
        "    zoom_range=0.2,  # Perbesar/perkecil gambar\n",
        "    horizontal_flip=True,  # Flip gambar secara horizontal\n",
        "    vertical_flip=True  # Flip gambar secara vertikal\n",
        ")\n",
        "\n",
        "# Menggunakan objek ImageDataGenerator untuk memuat dan augmentasi data pelatihan\n",
        "train_generator = train_datagen.flow_from_directory(\n",
        "    '/content/DATASET/TRAIN',\n",
        "    target_size=(224, 224),  # Ukuran gambar yang diharapkan\n",
        "    batch_size=32,  # Jumlah sampel dalam setiap batch\n",
        "    class_mode='categorical'  # Mode klasifikasi multikelas\n",
        ")\n"
      ],
      "metadata": {
        "id": "uq9YRr479G_A",
        "outputId": "c96f6c1f-a8b0-4302-c2e0-d3f53358f9f3",
        "colab": {
          "base_uri": "https://localhost:8080/"
        }
      },
      "execution_count": 25,
      "outputs": [
        {
          "output_type": "stream",
          "name": "stdout",
          "text": [
            "Found 84 images belonging to 4 classes.\n"
          ]
        }
      ]
    },
    {
      "cell_type": "code",
      "source": [
        "import tensorflow as tf\n",
        "from tensorflow.keras import layers\n",
        "from tensorflow.keras.layers import Dense, Dropout\n",
        "# Membangun model CNN\n",
        "model = tf.keras.Sequential()\n",
        "\n",
        "# Layer konvolusi pertama\n",
        "model.add(layers.Conv2D(32, (3, 3), activation='relu', input_shape=(224, 224, 3)))\n",
        "model.add(layers.MaxPooling2D((2, 2)))\n",
        "\n",
        "\n",
        "\n",
        "# Layer konvolusi kedua\n",
        "model.add(layers.Conv2D(64, (3, 3), activation='relu'))\n",
        "model.add(layers.MaxPooling2D((2, 2)))\n",
        "\n",
        "# Layer konvolusi ketiga\n",
        "model.add(layers.Conv2D(128, (3, 3), activation='relu'))\n",
        "model.add(layers.MaxPooling2D((2, 2)))\n",
        "\n",
        "\n",
        "\n",
        "# Layer konvolusi keempat\n",
        "model.add(layers.Conv2D(256, (3, 3), activation='relu'))\n",
        "model.add(layers.MaxPooling2D((2, 2)))\n",
        "model.add(Dropout(0.25))\n",
        "\n",
        "\n",
        "# Layer flatten\n",
        "model.add(layers.Flatten())\n",
        "\n",
        "# Layer fully connected\n",
        "model.add(layers.Dense(512, activation='relu'))\n",
        "model.add(layers.Dense(256, activation='relu'))\n",
        "\n",
        "# Layer output\n",
        "model.add(layers.Dense(4, activation='softmax'))\n",
        "\n",
        "# Menampilkan ringkasan model\n",
        "model.summary()\n"
      ],
      "metadata": {
        "id": "Mp-BQOuW9BZP",
        "colab": {
          "base_uri": "https://localhost:8080/"
        },
        "outputId": "f00933a8-4bbc-4248-a5b1-bdd0a3596470"
      },
      "execution_count": 26,
      "outputs": [
        {
          "output_type": "stream",
          "name": "stdout",
          "text": [
            "Model: \"sequential_3\"\n",
            "_________________________________________________________________\n",
            " Layer (type)                Output Shape              Param #   \n",
            "=================================================================\n",
            " conv2d_12 (Conv2D)          (None, 222, 222, 32)      896       \n",
            "                                                                 \n",
            " max_pooling2d_12 (MaxPoolin  (None, 111, 111, 32)     0         \n",
            " g2D)                                                            \n",
            "                                                                 \n",
            " conv2d_13 (Conv2D)          (None, 109, 109, 64)      18496     \n",
            "                                                                 \n",
            " max_pooling2d_13 (MaxPoolin  (None, 54, 54, 64)       0         \n",
            " g2D)                                                            \n",
            "                                                                 \n",
            " conv2d_14 (Conv2D)          (None, 52, 52, 128)       73856     \n",
            "                                                                 \n",
            " max_pooling2d_14 (MaxPoolin  (None, 26, 26, 128)      0         \n",
            " g2D)                                                            \n",
            "                                                                 \n",
            " conv2d_15 (Conv2D)          (None, 24, 24, 256)       295168    \n",
            "                                                                 \n",
            " max_pooling2d_15 (MaxPoolin  (None, 12, 12, 256)      0         \n",
            " g2D)                                                            \n",
            "                                                                 \n",
            " dropout_6 (Dropout)         (None, 12, 12, 256)       0         \n",
            "                                                                 \n",
            " flatten_3 (Flatten)         (None, 36864)             0         \n",
            "                                                                 \n",
            " dense_9 (Dense)             (None, 512)               18874880  \n",
            "                                                                 \n",
            " dense_10 (Dense)            (None, 256)               131328    \n",
            "                                                                 \n",
            " dense_11 (Dense)            (None, 4)                 1028      \n",
            "                                                                 \n",
            "=================================================================\n",
            "Total params: 19,395,652\n",
            "Trainable params: 19,395,652\n",
            "Non-trainable params: 0\n",
            "_________________________________________________________________\n"
          ]
        }
      ]
    },
    {
      "cell_type": "code",
      "source": [
        "import tensorflow as tf\n",
        "from tensorflow.keras.optimizers import Adam\n",
        "\n",
        "\n",
        "\n",
        "\n",
        "# Mendefinisikan optimizer kompleks\n",
        "optimizer = Adam(\n",
        "    learning_rate=0.001,  # Tingkat pembelajaran\n",
        "    beta_1=0.9,  # Faktor untuk menghitung momen pertama\n",
        "    beta_2=0.999,  # Faktor untuk menghitung momen kedua\n",
        "    epsilon=1e-07,  # Nilai kecil untuk memastikan pembagian yang aman\n",
        "    amsgrad=False  # Penggunaan amsgrad (Opsional)\n",
        ")\n",
        "\n"
      ],
      "metadata": {
        "id": "pY-Z7MaY9SEg"
      },
      "execution_count": 27,
      "outputs": []
    },
    {
      "cell_type": "code",
      "source": [
        "from tensorflow.keras.optimizers import Adam\n",
        "import matplotlib.pyplot as plt\n",
        "\n",
        "image_width = 224\n",
        "image_height = 224\n",
        "batch_size = 32\n",
        "\n",
        "validation_datagen = ImageDataGenerator(rescale=1./255)\n",
        "# Definisikan validation data generator\n",
        "val_generator = validation_datagen.flow_from_directory(\n",
        "    validation_dir,\n",
        "    target_size=(image_width, image_height),\n",
        "    batch_size=batch_size,\n",
        "    class_mode='categorical')\n",
        "\n",
        "# Definisikan optimizer kompleks\n",
        "optimizer = Adam(\n",
        "    learning_rate=0.001,\n",
        "    beta_1=0.9,\n",
        "    beta_2=0.999,\n",
        "    epsilon=1e-07,\n",
        "    amsgrad=False\n",
        ")\n",
        "\n",
        "# Mengompilasi model dengan optimizer kompleks\n",
        "model.compile(\n",
        "    optimizer=optimizer,\n",
        "    loss='categorical_crossentropy',\n",
        "    metrics=['accuracy']\n",
        ")\n",
        "\n",
        "# Melatih model dan mendapatkan objek history\n",
        "history = model.fit(train_generator, steps_per_epoch=len(train_generator), epochs=50, validation_data=val_generator, validation_steps=len(val_generator))\n",
        "\n",
        "\n",
        "\n"
      ],
      "metadata": {
        "id": "nnsJN97g9pjC",
        "outputId": "04d8a7f2-3fd8-44a9-caef-033ab41d228e",
        "colab": {
          "base_uri": "https://localhost:8080/"
        }
      },
      "execution_count": 28,
      "outputs": [
        {
          "output_type": "stream",
          "name": "stdout",
          "text": [
            "Found 84 images belonging to 4 classes.\n",
            "Epoch 1/50\n",
            "3/3 [==============================] - 20s 6s/step - loss: 2.3615 - accuracy: 0.3333 - val_loss: 1.2943 - val_accuracy: 0.3095\n",
            "Epoch 2/50\n",
            "3/3 [==============================] - 18s 7s/step - loss: 1.2993 - accuracy: 0.3571 - val_loss: 1.2216 - val_accuracy: 0.4405\n",
            "Epoch 3/50\n",
            "3/3 [==============================] - 17s 7s/step - loss: 1.2408 - accuracy: 0.4405 - val_loss: 1.2023 - val_accuracy: 0.4405\n",
            "Epoch 4/50\n",
            "3/3 [==============================] - 18s 7s/step - loss: 1.2099 - accuracy: 0.4405 - val_loss: 1.1949 - val_accuracy: 0.4405\n",
            "Epoch 5/50\n",
            "3/3 [==============================] - 17s 7s/step - loss: 1.2106 - accuracy: 0.4405 - val_loss: 1.1859 - val_accuracy: 0.4405\n",
            "Epoch 6/50\n",
            "3/3 [==============================] - 18s 7s/step - loss: 1.1884 - accuracy: 0.4405 - val_loss: 1.1716 - val_accuracy: 0.4405\n",
            "Epoch 7/50\n",
            "3/3 [==============================] - 18s 6s/step - loss: 1.1746 - accuracy: 0.4405 - val_loss: 1.1457 - val_accuracy: 0.4405\n",
            "Epoch 8/50\n",
            "3/3 [==============================] - 18s 6s/step - loss: 1.1693 - accuracy: 0.3929 - val_loss: 1.1334 - val_accuracy: 0.5119\n",
            "Epoch 9/50\n",
            "3/3 [==============================] - 17s 6s/step - loss: 1.1364 - accuracy: 0.5357 - val_loss: 1.1156 - val_accuracy: 0.4286\n",
            "Epoch 10/50\n",
            "3/3 [==============================] - 17s 6s/step - loss: 1.1156 - accuracy: 0.4048 - val_loss: 1.1018 - val_accuracy: 0.4524\n",
            "Epoch 11/50\n",
            "3/3 [==============================] - 16s 5s/step - loss: 1.1225 - accuracy: 0.4405 - val_loss: 1.0857 - val_accuracy: 0.5119\n",
            "Epoch 12/50\n",
            "3/3 [==============================] - 16s 5s/step - loss: 1.0894 - accuracy: 0.4167 - val_loss: 1.1879 - val_accuracy: 0.4405\n",
            "Epoch 13/50\n",
            "3/3 [==============================] - 18s 6s/step - loss: 1.1090 - accuracy: 0.4286 - val_loss: 1.0613 - val_accuracy: 0.5119\n",
            "Epoch 14/50\n",
            "3/3 [==============================] - 16s 5s/step - loss: 1.0933 - accuracy: 0.4643 - val_loss: 1.0481 - val_accuracy: 0.5238\n",
            "Epoch 15/50\n",
            "3/3 [==============================] - 18s 7s/step - loss: 1.0301 - accuracy: 0.4881 - val_loss: 1.0358 - val_accuracy: 0.5119\n",
            "Epoch 16/50\n",
            "3/3 [==============================] - 18s 6s/step - loss: 1.0330 - accuracy: 0.4881 - val_loss: 1.0142 - val_accuracy: 0.5119\n",
            "Epoch 17/50\n",
            "3/3 [==============================] - 16s 5s/step - loss: 1.0373 - accuracy: 0.5119 - val_loss: 1.0162 - val_accuracy: 0.5476\n",
            "Epoch 18/50\n",
            "3/3 [==============================] - 18s 7s/step - loss: 1.1305 - accuracy: 0.5000 - val_loss: 1.0193 - val_accuracy: 0.5476\n",
            "Epoch 19/50\n",
            "3/3 [==============================] - 17s 6s/step - loss: 1.0927 - accuracy: 0.5000 - val_loss: 1.1270 - val_accuracy: 0.4643\n",
            "Epoch 20/50\n",
            "3/3 [==============================] - 18s 6s/step - loss: 1.0115 - accuracy: 0.5595 - val_loss: 1.0284 - val_accuracy: 0.5714\n",
            "Epoch 21/50\n",
            "3/3 [==============================] - 18s 6s/step - loss: 1.0714 - accuracy: 0.5833 - val_loss: 0.9985 - val_accuracy: 0.5952\n",
            "Epoch 22/50\n",
            "3/3 [==============================] - 18s 6s/step - loss: 1.0254 - accuracy: 0.5714 - val_loss: 1.0343 - val_accuracy: 0.5357\n",
            "Epoch 23/50\n",
            "3/3 [==============================] - 18s 6s/step - loss: 0.9876 - accuracy: 0.5833 - val_loss: 0.9569 - val_accuracy: 0.6190\n",
            "Epoch 24/50\n",
            "3/3 [==============================] - 18s 7s/step - loss: 0.9539 - accuracy: 0.5714 - val_loss: 1.0355 - val_accuracy: 0.5833\n",
            "Epoch 25/50\n",
            "3/3 [==============================] - 18s 6s/step - loss: 0.9449 - accuracy: 0.5119 - val_loss: 0.8950 - val_accuracy: 0.5833\n",
            "Epoch 26/50\n",
            "3/3 [==============================] - 18s 7s/step - loss: 0.9208 - accuracy: 0.5595 - val_loss: 0.8663 - val_accuracy: 0.5833\n",
            "Epoch 27/50\n",
            "3/3 [==============================] - 18s 6s/step - loss: 0.8628 - accuracy: 0.6429 - val_loss: 0.8199 - val_accuracy: 0.6071\n",
            "Epoch 28/50\n",
            "3/3 [==============================] - 18s 7s/step - loss: 0.9314 - accuracy: 0.5476 - val_loss: 1.0026 - val_accuracy: 0.5714\n",
            "Epoch 29/50\n",
            "3/3 [==============================] - 18s 6s/step - loss: 0.9451 - accuracy: 0.5119 - val_loss: 0.9791 - val_accuracy: 0.5357\n",
            "Epoch 30/50\n",
            "3/3 [==============================] - 18s 7s/step - loss: 0.9848 - accuracy: 0.5595 - val_loss: 1.0659 - val_accuracy: 0.5595\n",
            "Epoch 31/50\n",
            "3/3 [==============================] - 18s 6s/step - loss: 0.9675 - accuracy: 0.5833 - val_loss: 0.8556 - val_accuracy: 0.5952\n",
            "Epoch 32/50\n",
            "3/3 [==============================] - 18s 7s/step - loss: 0.8629 - accuracy: 0.5714 - val_loss: 0.8323 - val_accuracy: 0.6310\n",
            "Epoch 33/50\n",
            "3/3 [==============================] - 17s 6s/step - loss: 0.8167 - accuracy: 0.6310 - val_loss: 0.8418 - val_accuracy: 0.6429\n",
            "Epoch 34/50\n",
            "3/3 [==============================] - 18s 7s/step - loss: 0.7569 - accuracy: 0.6548 - val_loss: 0.7446 - val_accuracy: 0.6310\n",
            "Epoch 35/50\n",
            "3/3 [==============================] - 18s 7s/step - loss: 0.7819 - accuracy: 0.6429 - val_loss: 0.8320 - val_accuracy: 0.6667\n",
            "Epoch 36/50\n",
            "3/3 [==============================] - 16s 5s/step - loss: 0.7826 - accuracy: 0.6190 - val_loss: 0.7734 - val_accuracy: 0.6786\n",
            "Epoch 37/50\n",
            "3/3 [==============================] - 16s 6s/step - loss: 0.7863 - accuracy: 0.7024 - val_loss: 0.9406 - val_accuracy: 0.6190\n",
            "Epoch 38/50\n",
            "3/3 [==============================] - 18s 6s/step - loss: 0.9075 - accuracy: 0.5714 - val_loss: 0.8836 - val_accuracy: 0.6071\n",
            "Epoch 39/50\n",
            "3/3 [==============================] - 16s 6s/step - loss: 1.0001 - accuracy: 0.5357 - val_loss: 0.8464 - val_accuracy: 0.6310\n",
            "Epoch 40/50\n",
            "3/3 [==============================] - 19s 7s/step - loss: 0.8907 - accuracy: 0.6548 - val_loss: 0.8710 - val_accuracy: 0.6429\n",
            "Epoch 41/50\n",
            "3/3 [==============================] - 17s 6s/step - loss: 0.9369 - accuracy: 0.5595 - val_loss: 0.8492 - val_accuracy: 0.6786\n",
            "Epoch 42/50\n",
            "3/3 [==============================] - 16s 6s/step - loss: 0.9227 - accuracy: 0.5595 - val_loss: 0.7513 - val_accuracy: 0.7262\n",
            "Epoch 43/50\n",
            "3/3 [==============================] - 18s 6s/step - loss: 0.8706 - accuracy: 0.5714 - val_loss: 0.7360 - val_accuracy: 0.6548\n",
            "Epoch 44/50\n",
            "3/3 [==============================] - 18s 6s/step - loss: 0.8241 - accuracy: 0.6071 - val_loss: 0.6831 - val_accuracy: 0.7024\n",
            "Epoch 45/50\n",
            "3/3 [==============================] - 16s 6s/step - loss: 0.8137 - accuracy: 0.6429 - val_loss: 0.6925 - val_accuracy: 0.6667\n",
            "Epoch 46/50\n",
            "3/3 [==============================] - 18s 6s/step - loss: 0.8205 - accuracy: 0.6190 - val_loss: 0.6901 - val_accuracy: 0.7024\n",
            "Epoch 47/50\n",
            "3/3 [==============================] - 18s 6s/step - loss: 0.7833 - accuracy: 0.6310 - val_loss: 0.6864 - val_accuracy: 0.7143\n",
            "Epoch 48/50\n",
            "3/3 [==============================] - 16s 5s/step - loss: 0.7189 - accuracy: 0.7024 - val_loss: 0.6440 - val_accuracy: 0.7500\n",
            "Epoch 49/50\n",
            "3/3 [==============================] - 18s 7s/step - loss: 0.7333 - accuracy: 0.6548 - val_loss: 0.6543 - val_accuracy: 0.7024\n",
            "Epoch 50/50\n",
            "3/3 [==============================] - 16s 6s/step - loss: 0.8186 - accuracy: 0.6548 - val_loss: 0.8863 - val_accuracy: 0.5952\n"
          ]
        }
      ]
    },
    {
      "cell_type": "code",
      "source": [
        "# Membuat plot loss\n",
        "plt.plot(history.history['loss'], label='Training Loss')\n",
        "plt.plot(history.history['val_loss'], label='Validation Loss')\n",
        "plt.title('Loss')\n",
        "plt.xlabel('Epochs')\n",
        "plt.ylabel('Loss')\n",
        "plt.legend()\n",
        "plt.show()\n",
        "\n",
        "# Membuat plot accuracy\n",
        "plt.plot(history.history['accuracy'], label='Training Accuracy')\n",
        "plt.plot(history.history['val_accuracy'], label='Validation Accuracy')\n",
        "plt.title('Accuracy')\n",
        "plt.xlabel('Epochs')\n",
        "plt.ylabel('Accuracy')\n",
        "plt.legend()\n",
        "plt.show()\n"
      ],
      "metadata": {
        "id": "x0rLwmLM-9LS",
        "colab": {
          "base_uri": "https://localhost:8080/",
          "height": 927
        },
        "outputId": "9ab16484-be91-452e-c725-a130831f9b19"
      },
      "execution_count": 31,
      "outputs": [
        {
          "output_type": "display_data",
          "data": {
            "text/plain": [
              "<Figure size 640x480 with 1 Axes>"
            ],
            "image/png": "[encoded data removed]"
          },
          "metadata": {}
        },
        {
          "output_type": "display_data",
          "data": {
            "text/plain": [
              "<Figure size 640x480 with 1 Axes>"
            ],
            "image/png": "[encoded data removed]"
          },
          "metadata": {}
        }
      ]
    },
    {
      "cell_type": "markdown",
      "source": [
        "**==========================SAVE MODEL==========================**"
      ],
      "metadata": {
        "id": "-3gy2gKjYksn"
      }
    },
    {
      "cell_type": "code",
      "source": [
        "from tensorflow.keras.models import save_model\n",
        "\n",
        "def save_model_to_file(model, file_path):\n",
        "    \"\"\"\n",
        "    Menyimpan model ke file.\n",
        "    \n",
        "    Args:\n",
        "        model (tf.keras.Model): Model yang akan disimpan.\n",
        "        file_path (str): Path file untuk menyimpan model.\n",
        "    \"\"\"\n",
        "    save_model(model, file_path)\n",
        "    print(f\"Model berhasil disimpan ke file: {file_path}\")\n"
      ],
      "metadata": {
        "id": "mlVMXUjA-jlD"
      },
      "execution_count": 32,
      "outputs": []
    },
    {
      "cell_type": "code",
      "source": [
        "# Simpan model ke file\n",
        "save_model_to_file(model, 'path/to/model.h5')"
      ],
      "metadata": {
        "id": "ZlpSk8i0pUOt",
        "colab": {
          "base_uri": "https://localhost:8080/"
        },
        "outputId": "d46cf2e2-725c-48b9-e638-389f694975ef"
      },
      "execution_count": 33,
      "outputs": [
        {
          "output_type": "stream",
          "name": "stdout",
          "text": [
            "Model berhasil disimpan ke file: path/to/model.h5\n"
          ]
        }
      ]
    },
    {
      "cell_type": "markdown",
      "source": [
        "**==========================PREDIKSI MODEL ==========================**"
      ],
      "metadata": {
        "id": "sK6WiCwWYud-"
      }
    },
    {
      "cell_type": "code",
      "source": [
        "from tensorflow.keras.models import load_model\n",
        "from tensorflow.keras.preprocessing import image\n",
        "import numpy as np\n",
        "\n",
        "# Load the trained model\n",
        "model = load_model('/content/path/to/model.h5')\n",
        "\n",
        "\n",
        "def preprocess_image(image_path, target_size):\n",
        "    img = image.load_img(image_path, target_size=target_size)\n",
        "    img = image.img_to_array(img)\n",
        "    img = np.expand_dims(img, axis=0)\n",
        "    img = img / 255.0  # Normalize gamabr\n",
        "    return img\n",
        "\n",
        "\n",
        "def predict_image(image_path, target_size):\n",
        "    img = preprocess_image(image_path, target_size)\n",
        "    pred = model.predict(img)\n",
        "    class_indices = train_generator.class_indices\n",
        "    predicted_class = list(class_indices.keys())[np.argmax(pred)]\n",
        "    confidence = np.max(pred) * 100\n",
        "    return predicted_class, confidence\n",
        "\n",
        "\n",
        "image_path = '/content/DATASET/TEST/inicontohredspot.JPG'\n",
        "target_size = (224, 224)  #target\n",
        "\n",
        "predicted_class, confidence = predict_image(image_path, target_size)\n",
        "print('Predicted class:', predicted_class)\n",
        "print('Confidence:', confidence)\n"
      ],
      "metadata": {
        "id": "4Wq23nJKLKm4",
        "colab": {
          "base_uri": "https://localhost:8080/"
        },
        "outputId": "fa8de184-5f90-49a3-bc34-0cd509fa73be"
      },
      "execution_count": 35,
      "outputs": [
        {
          "output_type": "stream",
          "name": "stdout",
          "text": [
            "1/1 [==============================] - 0s 145ms/step\n",
            "Predicted class: HEALTHY\n",
            "Confidence: 44.32094395160675\n"
          ]
        }
      ]
    }
  ]
}