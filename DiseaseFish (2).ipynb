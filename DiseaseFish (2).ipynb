{
  "nbformat": 4,
  "nbformat_minor": 0,
  "metadata": {
    "colab": {
      "provenance": [],
      "gpuType": "T4"
    },
    "kernelspec": {
      "name": "python3",
      "display_name": "Python 3"
    },
    "language_info": {
      "name": "python"
    }
  },
  "cells": [
    {
      "cell_type": "markdown",
      "source": [
        "**AKTIVASI GOOGLE DRIVE**"
      ],
      "metadata": {
        "id": "zXzEjdZ3C9jI"
      }
    },
    {
      "cell_type": "code",
      "source": [
        "from google.colab import drive\n",
        "import os\n",
        "import zipfile\n",
        "\n",
        "# Tentukan path file zip\n",
        "zip_path = '/content/DATASET.zip'  # Ganti dengan path file zip yang sesuai\n",
        "\n",
        "# Ekstrak file zip\n",
        "with zipfile.ZipFile(zip_path, 'r') as zip_ref:\n",
        "    zip_ref.extractall('/content/')  # Ganti dengan folder tujuan ekstraksi yang diinginkan\n",
        "\n",
        "# Menghubungkan ke Google Drive\n",
        "#drive.mount('/content/drive')\n",
        "\n",
        "# Menentukan path lengkap ke dataset di Google Drive\n",
        "#dataset_dir = '/content/drive/MyDrive/DATASET'\n",
        "\n"
      ],
      "metadata": {
        "id": "7zRTTm4RHKvv"
      },
      "execution_count": 66,
      "outputs": []
    },
    {
      "cell_type": "markdown",
      "source": [
        "**CEK FOLDER**"
      ],
      "metadata": {
        "id": "PcytCydCD_Od"
      }
    },
    {
      "cell_type": "code",
      "source": [
        "!ls \"/content/\"\n",
        "# "
      ],
      "metadata": {
        "id": "Z2fWWN-HEIKh",
        "outputId": "132c52f2-ff9c-4a4c-c993-cad2c97c27cf",
        "colab": {
          "base_uri": "https://localhost:8080/"
        }
      },
      "execution_count": 67,
      "outputs": [
        {
          "output_type": "stream",
          "name": "stdout",
          "text": [
            "1\t     download.jpg\t\t\t\t       sample_data\n",
            "DATASET      ikan-nila-berkhasiat-bikin-awet-muda-220728i.jpg\n",
            "DATASET.zip  path\n"
          ]
        }
      ]
    },
    {
      "cell_type": "markdown",
      "source": [
        "**SET DIRECTORY**"
      ],
      "metadata": {
        "id": "_x8L1i9JFUxx"
      }
    },
    {
      "cell_type": "code",
      "source": [
        "import os\n",
        "base_dir = \"/content/DATASET\"\n",
        "\n",
        "\n",
        "train_dir = os.path.join(base_dir, 'TRAIN')\n",
        "validation_dir = os.path.join(base_dir, 'VALIDATION')\n",
        "\n",
        "\n",
        "#TRAIN\n",
        "train_whitespot_dir = os.path.join(train_dir, 'WHITESPOT')\n",
        "#train_aeromonas_dir = os.path.join(train_dir, 'AEROMONAS')\n",
        "train_backterialfin_dir = os.path.join(train_dir, 'BACTERIALFIN')\n",
        "train_redspot_dir = os.path.join(train_dir, 'REDSPOT')\n",
        "train_healthy_dir = os.path.join(train_dir, 'HEALTHY')\n",
        "\n",
        "#VALIDATION\n",
        "validation_whitespot_dir = os.path.join(train_dir, 'WHITESPOT')\n",
        "#validation_aeromonas_dir = os.path.join(train_dir, 'AEROMONAS')\n",
        "validation_backterialfin_dir = os.path.join(train_dir, 'BACTERIALFIN')\n",
        "validation_redspot_dir = os.path.join(train_dir, 'REDSPOT')\n",
        "validation_healthy_dir = os.path.join(train_dir, 'HEALTHY')\n",
        "\n",
        "#TEST\n",
        "#test_dir = os.path.join(base_dir, 'TEST')\n"
      ],
      "metadata": {
        "id": "YSV0B1d-LTFP"
      },
      "execution_count": 68,
      "outputs": []
    },
    {
      "cell_type": "code",
      "source": [
        "print(\"Contents of base directory:\")\n",
        "print(os.listdir(base_dir))"
      ],
      "metadata": {
        "colab": {
          "base_uri": "https://localhost:8080/"
        },
        "id": "fdxBfYnmLmdb",
        "outputId": "32f2966a-6126-4992-c622-2ab297e45ea2"
      },
      "execution_count": 69,
      "outputs": [
        {
          "output_type": "stream",
          "name": "stdout",
          "text": [
            "Contents of base directory:\n",
            "['TRAIN', 'VALIDATION', 'TEST']\n"
          ]
        }
      ]
    },
    {
      "cell_type": "markdown",
      "source": [
        "**CEK ISI DATASET**"
      ],
      "metadata": {
        "id": "QRjcxk0xIfGe"
      }
    },
    {
      "cell_type": "code",
      "source": [
        "train_whitespot_fnames = os.listdir(train_whitespot_dir)\n",
        "print(train_whitespot_fnames[:5])\n",
        "\n",
        "#train_aeromonas_fnames = os.listdir(train_aeromonas_dir)\n",
        "#print(train_aeromonas_fnames[:5])\n",
        "\n",
        "train_bacterial_fnames = os.listdir(train_backterialfin_dir)\n",
        "print(train_bacterial_fnames[:5])\n",
        "\n",
        "#==========================================\n",
        "\n",
        "print('total training WHITESPOT images:', len(os.listdir(train_whitespot_dir)))\n",
        "#print('total training AEROMONAS images:', len(os.listdir(train_aeromonas_dir)))\n",
        "print('total training BACTERIALFIN images:', len(os.listdir(train_backterialfin_dir)))\n",
        "print('total training REDSPOT images:', len(os.listdir(train_redspot_dir)))\n",
        "print('total training HEALTHY images:', len(os.listdir(train_healthy_dir)))"
      ],
      "metadata": {
        "colab": {
          "base_uri": "https://localhost:8080/"
        },
        "id": "9XoMDgp7HYMr",
        "outputId": "cecab33a-46f7-4261-b3de-49673ac29555"
      },
      "execution_count": 70,
      "outputs": [
        {
          "output_type": "stream",
          "name": "stdout",
          "text": [
            "['images (5).jpg', '2.JPG', 'images (6).jpg', 'download (10).jpg', 'images (8).jpg']\n",
            "['A.jfif', '4.JPG', 'motile-aeromonas-septicemia.JPG', '1.JPG']\n",
            "total training WHITESPOT images: 32\n",
            "total training BACTERIALFIN images: 4\n",
            "total training REDSPOT images: 23\n",
            "total training HEALTHY images: 16\n"
          ]
        }
      ]
    },
    {
      "cell_type": "code",
      "source": [
        "from tensorflow.keras.preprocessing.image import ImageDataGenerator\n",
        "\n",
        "# Membuat objek ImageDataGenerator dengan konfigurasi augmentasi gambar\n",
        "train_datagen = ImageDataGenerator(\n",
        "    rescale=1./255,  # Skala piksel ke range 0-1\n",
        "    rotation_range=5,  # Rotasi gambar dalam range 20 derajat\n",
        "    width_shift_range=0.1,  # Geser gambar secara horizontal\n",
        "    height_shift_range=0.1,  # Geser gambar secara vertikal\n",
        "    shear_range=0.1,  # Menggeser gambar secara shear\n",
        "    zoom_range=0.1,  # Perbesar/perkecil gambar\n",
        "    horizontal_flip=True,  # Flip gambar secara horizontal\n",
        "    vertical_flip=True  # Flip gambar secara vertikal\n",
        ")\n",
        "\n",
        "# Menggunakan objek ImageDataGenerator untuk memuat dan augmentasi data pelatihan\n",
        "train_generator = train_datagen.flow_from_directory(\n",
        "    '/content/DATASET/TRAIN',\n",
        "    target_size=(224, 224),  # Ukuran gambar yang diharapkan\n",
        "    # Jumlah sampel dalam setiap batch\n",
        "    class_mode='categorical'  # Mode klasifikasi multikelas\n",
        ")\n"
      ],
      "metadata": {
        "id": "uq9YRr479G_A",
        "outputId": "d1d3d1f5-c391-4db4-df0e-6700357ae0eb",
        "colab": {
          "base_uri": "https://localhost:8080/"
        }
      },
      "execution_count": 71,
      "outputs": [
        {
          "output_type": "stream",
          "name": "stdout",
          "text": [
            "Found 69 images belonging to 4 classes.\n"
          ]
        }
      ]
    },
    {
      "cell_type": "code",
      "source": [
        "import tensorflow as tf\n",
        "from tensorflow.keras import layers\n",
        "from tensorflow.keras.layers import Dense, Dropout\n",
        "# Membangun model CNN\n",
        "model = tf.keras.Sequential()\n",
        "\n",
        "# Layer konvolusi pertama\n",
        "model.add(layers.Conv2D(32, (3, 3), activation='relu', input_shape=(224, 224, 3)))\n",
        "model.add(layers.MaxPooling2D((2, 2)))\n",
        "\n",
        "\n",
        "\n",
        "\n",
        "# Layer konvolusi kedua\n",
        "model.add(layers.Conv2D(64, (3, 3), activation='relu'))\n",
        "model.add(layers.MaxPooling2D((2, 2)))\n",
        "\n",
        "\n",
        "# Layer konvolusi ketiga\n",
        "model.add(layers.Conv2D(128, (3, 3), activation='relu'))\n",
        "model.add(layers.MaxPooling2D((2, 2)))\n",
        "\n",
        "\n",
        "\n",
        "\n",
        "# Layer konvolusi keempat\n",
        "model.add(layers.Conv2D(256, (3, 3), activation='relu'))\n",
        "model.add(layers.MaxPooling2D((2, 2)))\n",
        "model.add(Dropout(0.25))\n",
        "\n",
        "\n",
        "# Layer flatten\n",
        "model.add(layers.Flatten())\n",
        "\n",
        "# Layer fully connected\n",
        "model.add(layers.Dense(512, activation='relu'))\n",
        "model.add(layers.Dense(256, activation='relu'))\n",
        "\n",
        "# Layer output\n",
        "model.add(layers.Dense(4, activation='softmax'))\n",
        "\n",
        "# Menampilkan ringkasan model\n",
        "model.summary()\n"
      ],
      "metadata": {
        "id": "Mp-BQOuW9BZP",
        "colab": {
          "base_uri": "https://localhost:8080/"
        },
        "outputId": "d4b2a084-7584-4c26-babd-0f886794ac6f"
      },
      "execution_count": 72,
      "outputs": [
        {
          "output_type": "stream",
          "name": "stdout",
          "text": [
            "Model: \"sequential_5\"\n",
            "_________________________________________________________________\n",
            " Layer (type)                Output Shape              Param #   \n",
            "=================================================================\n",
            " conv2d_20 (Conv2D)          (None, 222, 222, 32)      896       \n",
            "                                                                 \n",
            " max_pooling2d_20 (MaxPoolin  (None, 111, 111, 32)     0         \n",
            " g2D)                                                            \n",
            "                                                                 \n",
            " conv2d_21 (Conv2D)          (None, 109, 109, 64)      18496     \n",
            "                                                                 \n",
            " max_pooling2d_21 (MaxPoolin  (None, 54, 54, 64)       0         \n",
            " g2D)                                                            \n",
            "                                                                 \n",
            " conv2d_22 (Conv2D)          (None, 52, 52, 128)       73856     \n",
            "                                                                 \n",
            " max_pooling2d_22 (MaxPoolin  (None, 26, 26, 128)      0         \n",
            " g2D)                                                            \n",
            "                                                                 \n",
            " conv2d_23 (Conv2D)          (None, 24, 24, 256)       295168    \n",
            "                                                                 \n",
            " max_pooling2d_23 (MaxPoolin  (None, 12, 12, 256)      0         \n",
            " g2D)                                                            \n",
            "                                                                 \n",
            " dropout_5 (Dropout)         (None, 12, 12, 256)       0         \n",
            "                                                                 \n",
            " flatten_5 (Flatten)         (None, 36864)             0         \n",
            "                                                                 \n",
            " dense_15 (Dense)            (None, 512)               18874880  \n",
            "                                                                 \n",
            " dense_16 (Dense)            (None, 256)               131328    \n",
            "                                                                 \n",
            " dense_17 (Dense)            (None, 4)                 1028      \n",
            "                                                                 \n",
            "=================================================================\n",
            "Total params: 19,395,652\n",
            "Trainable params: 19,395,652\n",
            "Non-trainable params: 0\n",
            "_________________________________________________________________\n"
          ]
        }
      ]
    },
    {
      "cell_type": "code",
      "source": [
        "from tensorflow.keras.optimizers import Adam\n",
        "import matplotlib.pyplot as plt\n",
        "from keras.callbacks import Callback\n",
        "\n",
        "image_width = 224\n",
        "image_height = 224\n",
        "batch_size= 64 # Jumlah sampel dalam setiap batch\n",
        "\n",
        "\n",
        "validation_datagen = ImageDataGenerator(rescale=1./255)\n",
        "# Definisikan validation data generator\n",
        "val_generator = validation_datagen.flow_from_directory(\n",
        "    validation_dir,\n",
        "    target_size=(image_width, image_height),\n",
        "    batch_size=batch_size,\n",
        "    class_mode='categorical')\n",
        "\n",
        "# Definisikan optimizer kompleks\n",
        "optimizer = Adam(\n",
        "    learning_rate=0.001,\n",
        "    beta_1=0.9,\n",
        "    beta_2=0.999,\n",
        "    epsilon=1e-07,\n",
        "   \n",
        ")\n",
        "\n",
        "\n",
        "#Callback\n",
        "class StopTrainingCallback(Callback):\n",
        "    def on_epoch_end(self, epoch, logs={}):\n",
        "        if logs.get('accuracy') >= 0.9 and logs.get('val_accuracy') >= 0.96:\n",
        "            print(\"\\nTraining stopped as desired accuracy achieved!\")\n",
        "            self.model.stop_training = True\n",
        "\n",
        "\n",
        "# Mengompilasi model dengan optimizer kompleks\n",
        "model.compile(\n",
        "    optimizer=optimizer,\n",
        "    loss='categorical_crossentropy',\n",
        "    metrics=['accuracy']\n",
        ")\n",
        "\n",
        "# Melatih model dan mendapatkan objek history\n",
        "history = model.fit(train_generator, steps_per_epoch=len(train_generator), epochs=80, validation_data=val_generator, validation_steps=len(val_generator), callbacks=[StopTrainingCallback()])\n",
        "\n",
        "\n",
        "\n",
        "\n",
        "\n",
        "\n",
        "\n"
      ],
      "metadata": {
        "id": "nnsJN97g9pjC",
        "outputId": "fc180b8c-3808-4b17-fb4d-663f40be1275",
        "colab": {
          "base_uri": "https://localhost:8080/"
        }
      },
      "execution_count": 75,
      "outputs": [
        {
          "output_type": "stream",
          "name": "stdout",
          "text": [
            "Found 69 images belonging to 4 classes.\n",
            "Epoch 1/80\n",
            "3/3 [==============================] - 19s 6s/step - loss: 1.1076 - accuracy: 0.5942 - val_loss: 0.6503 - val_accuracy: 0.7681\n",
            "Epoch 2/80\n",
            "3/3 [==============================] - 16s 5s/step - loss: 0.8106 - accuracy: 0.6232 - val_loss: 0.6287 - val_accuracy: 0.6957\n",
            "Epoch 3/80\n",
            "3/3 [==============================] - 14s 6s/step - loss: 0.6141 - accuracy: 0.7246 - val_loss: 0.5390 - val_accuracy: 0.7391\n",
            "Epoch 4/80\n",
            "3/3 [==============================] - 17s 5s/step - loss: 0.6041 - accuracy: 0.7536 - val_loss: 0.8529 - val_accuracy: 0.7681\n",
            "Epoch 5/80\n",
            "3/3 [==============================] - 17s 6s/step - loss: 0.6462 - accuracy: 0.7681 - val_loss: 0.5148 - val_accuracy: 0.8116\n",
            "Epoch 6/80\n",
            "3/3 [==============================] - 17s 5s/step - loss: 0.6035 - accuracy: 0.7826 - val_loss: 0.4346 - val_accuracy: 0.8261\n",
            "Epoch 7/80\n",
            "3/3 [==============================] - 17s 6s/step - loss: 0.5452 - accuracy: 0.8116 - val_loss: 0.3736 - val_accuracy: 0.8696\n",
            "Epoch 8/80\n",
            "3/3 [==============================] - 15s 4s/step - loss: 0.4979 - accuracy: 0.8116 - val_loss: 0.3292 - val_accuracy: 0.8406\n",
            "Epoch 9/80\n",
            "3/3 [==============================] - 16s 7s/step - loss: 0.4229 - accuracy: 0.8406 - val_loss: 0.2819 - val_accuracy: 0.8986\n",
            "Epoch 10/80\n",
            "3/3 [==============================] - 16s 6s/step - loss: 0.5250 - accuracy: 0.8116 - val_loss: 0.2673 - val_accuracy: 0.8986\n",
            "Epoch 11/80\n",
            "3/3 [==============================] - 15s 5s/step - loss: 0.3445 - accuracy: 0.9130 - val_loss: 0.2347 - val_accuracy: 0.9130\n",
            "Epoch 12/80\n",
            "3/3 [==============================] - 16s 5s/step - loss: 0.3741 - accuracy: 0.8551 - val_loss: 0.4539 - val_accuracy: 0.8261\n",
            "Epoch 13/80\n",
            "3/3 [==============================] - 15s 5s/step - loss: 0.5164 - accuracy: 0.8116 - val_loss: 0.2050 - val_accuracy: 0.9275\n",
            "Epoch 14/80\n",
            "3/3 [==============================] - 17s 5s/step - loss: 0.5948 - accuracy: 0.7826 - val_loss: 0.4357 - val_accuracy: 0.7971\n",
            "Epoch 15/80\n",
            "3/3 [==============================] - 17s 6s/step - loss: 0.3837 - accuracy: 0.8551 - val_loss: 0.2365 - val_accuracy: 0.8986\n",
            "Epoch 16/80\n",
            "3/3 [==============================] - 16s 7s/step - loss: 0.3018 - accuracy: 0.8841 - val_loss: 0.2674 - val_accuracy: 0.8841\n",
            "Epoch 17/80\n",
            "3/3 [==============================] - 15s 7s/step - loss: 0.3755 - accuracy: 0.8406 - val_loss: 0.2515 - val_accuracy: 0.8986\n",
            "Epoch 18/80\n",
            "3/3 [==============================] - 15s 4s/step - loss: 0.3181 - accuracy: 0.8841 - val_loss: 0.2000 - val_accuracy: 0.9130\n",
            "Epoch 19/80\n",
            "3/3 [==============================] - 17s 6s/step - loss: 0.2926 - accuracy: 0.8986 - val_loss: 0.2122 - val_accuracy: 0.9130\n",
            "Epoch 20/80\n",
            "3/3 [==============================] - 16s 5s/step - loss: 0.2657 - accuracy: 0.8551 - val_loss: 0.1440 - val_accuracy: 0.9275\n",
            "Epoch 21/80\n",
            "3/3 [==============================] - 17s 8s/step - loss: 0.2133 - accuracy: 0.9275 - val_loss: 0.1634 - val_accuracy: 0.9275\n",
            "Epoch 22/80\n",
            "3/3 [==============================] - 17s 6s/step - loss: 0.2119 - accuracy: 0.9275 - val_loss: 0.1473 - val_accuracy: 0.9275\n",
            "Epoch 23/80\n",
            "3/3 [==============================] - 17s 5s/step - loss: 0.2530 - accuracy: 0.8841 - val_loss: 0.1206 - val_accuracy: 0.9420\n",
            "Epoch 24/80\n",
            "3/3 [==============================] - 14s 6s/step - loss: 0.2201 - accuracy: 0.8986 - val_loss: 0.1267 - val_accuracy: 0.9420\n",
            "Epoch 25/80\n",
            "3/3 [==============================] - 17s 8s/step - loss: 0.1827 - accuracy: 0.8986 - val_loss: 0.1025 - val_accuracy: 0.9565\n",
            "Epoch 26/80\n",
            "3/3 [==============================] - 17s 6s/step - loss: 0.1873 - accuracy: 0.9275 - val_loss: 0.1100 - val_accuracy: 0.9565\n",
            "Epoch 27/80\n",
            "3/3 [==============================] - 16s 5s/step - loss: 0.2307 - accuracy: 0.8986 - val_loss: 0.1032 - val_accuracy: 0.9565\n",
            "Epoch 28/80\n",
            "3/3 [==============================] - 15s 7s/step - loss: 0.1713 - accuracy: 0.9130 - val_loss: 0.1004 - val_accuracy: 0.9420\n",
            "Epoch 29/80\n",
            "3/3 [==============================] - 17s 7s/step - loss: 0.1504 - accuracy: 0.8986 - val_loss: 0.1093 - val_accuracy: 0.9565\n",
            "Epoch 30/80\n",
            "3/3 [==============================] - 16s 5s/step - loss: 0.1303 - accuracy: 0.9420 - val_loss: 0.0980 - val_accuracy: 0.9565\n",
            "Epoch 31/80\n",
            "3/3 [==============================] - ETA: 0s - loss: 0.0975 - accuracy: 0.9565\n",
            "Training stopped as desired accuracy achieved!\n",
            "3/3 [==============================] - 17s 6s/step - loss: 0.0975 - accuracy: 0.9565 - val_loss: 0.0835 - val_accuracy: 0.9710\n"
          ]
        }
      ]
    },
    {
      "cell_type": "code",
      "source": [
        "# Membuat plot loss\n",
        "plt.plot(history.history['loss'], label='Training Loss')\n",
        "plt.plot(history.history['val_loss'], label='Validation Loss')\n",
        "plt.title('Loss')\n",
        "plt.xlabel('Epochs')\n",
        "plt.ylabel('Loss')\n",
        "plt.legend()\n",
        "plt.show()\n",
        "\n",
        "# Membuat plot accuracy\n",
        "plt.plot(history.history['accuracy'], label='Training Accuracy')\n",
        "plt.plot(history.history['val_accuracy'], label='Validation Accuracy')\n",
        "plt.title('Accuracy')\n",
        "plt.xlabel('Epochs')\n",
        "plt.ylabel('Accuracy')\n",
        "plt.legend()\n",
        "plt.show()\n"
      ],
      "metadata": {
        "id": "x0rLwmLM-9LS",
        "colab": {
          "base_uri": "https://localhost:8080/",
          "height": 927
        },
        "outputId": "13abd675-0866-416e-98b9-623bcec153f7"
      },
      "execution_count": 76,
      "outputs": [
        {
          "output_type": "display_data",
          "data": {
            "text/plain": [
              "<Figure size 640x480 with 1 Axes>"
            ],
            "image/png": "[encoded data removed]"
          },
          "metadata": {}
        },
        {
          "output_type": "display_data",
          "data": {
            "text/plain": [
              "<Figure size 640x480 with 1 Axes>"
            ],
            "image/png": "[encoded data removed]"
          },
          "metadata": {}
        }
      ]
    },
    {
      "cell_type": "markdown",
      "source": [
        "**==========================SAVE MODEL==========================**"
      ],
      "metadata": {
        "id": "-3gy2gKjYksn"
      }
    },
    {
      "cell_type": "code",
      "source": [
        "from tensorflow.keras.models import save_model\n",
        "\n",
        "def save_model_to_file(model, file_path):\n",
        "    \"\"\"\n",
        "    Menyimpan model ke file.\n",
        "    \n",
        "    Args:\n",
        "        model (tf.keras.Model): Model yang akan disimpan.\n",
        "        file_path (str): Path file untuk menyimpan model.\n",
        "    \"\"\"\n",
        "    save_model(model, file_path)\n",
        "    print(f\"Model berhasil disimpan ke file: {file_path}\")\n"
      ],
      "metadata": {
        "id": "mlVMXUjA-jlD"
      },
      "execution_count": 77,
      "outputs": []
    },
    {
      "cell_type": "code",
      "source": [
        "# Simpan model ke file\n",
        "save_model_to_file(model, 'path/to/model.h5')"
      ],
      "metadata": {
        "id": "ZlpSk8i0pUOt",
        "colab": {
          "base_uri": "https://localhost:8080/"
        },
        "outputId": "72f6acd9-532f-494f-b1b2-058286685b00"
      },
      "execution_count": 78,
      "outputs": [
        {
          "output_type": "stream",
          "name": "stdout",
          "text": [
            "Model berhasil disimpan ke file: path/to/model.h5\n"
          ]
        }
      ]
    },
    {
      "cell_type": "markdown",
      "source": [
        "**==========================PREDIKSI MODEL ==========================**"
      ],
      "metadata": {
        "id": "sK6WiCwWYud-"
      }
    },
    {
      "cell_type": "code",
      "source": [
        "from tensorflow.keras.models import load_model\n",
        "from tensorflow.keras.preprocessing import image\n",
        "import numpy as np\n",
        "\n",
        "# Load the trained model\n",
        "model = load_model('/content/path/to/model.h5')\n",
        "\n",
        "\n",
        "def preprocess_image(image_path, target_size):\n",
        "    img = image.load_img(image_path, target_size=target_size)\n",
        "    img = image.img_to_array(img)\n",
        "    img = np.expand_dims(img, axis=0)\n",
        "    img = img / 255.0  # Normalize gamabr\n",
        "    return img\n",
        "\n",
        "\n",
        "def predict_image(image_path, target_size):\n",
        "    img = preprocess_image(image_path, target_size)\n",
        "    pred = model.predict(img)\n",
        "    class_indices = train_generator.class_indices\n",
        "    predicted_class = list(class_indices.keys())[np.argmax(pred)]\n",
        "    confidence = np.max(pred) * 100\n",
        "    return predicted_class, confidence\n",
        "\n",
        "\n",
        "image_path = '/content/download.jpg'\n",
        "target_size = (224, 224)  #target\n",
        "\n",
        "predicted_class, confidence = predict_image(image_path, target_size)\n",
        "print('Hasil Prediksi Kemungkinan :', predicted_class)\n",
        "print('Dalam %:', confidence)\n"
      ],
      "metadata": {
        "id": "4Wq23nJKLKm4",
        "colab": {
          "base_uri": "https://localhost:8080/"
        },
        "outputId": "ed3f7eee-312d-4b40-d615-53a3937f6523"
      },
      "execution_count": 81,
      "outputs": [
        {
          "output_type": "stream",
          "name": "stderr",
          "text": [
            "WARNING:tensorflow:6 out of the last 6 calls to <function Model.make_predict_function.<locals>.predict_function at 0x7f9350d3e3b0> triggered tf.function retracing. Tracing is expensive and the excessive number of tracings could be due to (1) creating @tf.function repeatedly in a loop, (2) passing tensors with different shapes, (3) passing Python objects instead of tensors. For (1), please define your @tf.function outside of the loop. For (2), @tf.function has reduce_retracing=True option that can avoid unnecessary retracing. For (3), please refer to https://www.tensorflow.org/guide/function#controlling_retracing and https://www.tensorflow.org/api_docs/python/tf/function for  more details.\n"
          ]
        },
        {
          "output_type": "stream",
          "name": "stdout",
          "text": [
            "1/1 [==============================] - 0s 150ms/step\n",
            "Hasil Prediksi Kemungkinan : REDSPOT\n",
            "Dalam %: 99.9528169631958\n"
          ]
        }
      ]
    }
  ]
}