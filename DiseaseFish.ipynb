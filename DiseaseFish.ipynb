{
  "nbformat": 4,
  "nbformat_minor": 0,
  "metadata": {
    "colab": {
      "provenance": [],
      "gpuType": "T4"
    },
    "kernelspec": {
      "name": "python3",
      "display_name": "Python 3"
    },
    "language_info": {
      "name": "python"
    }
  },
  "cells": [
    {
      "cell_type": "markdown",
      "source": [
        "**AKTIVASI GOOGLE DRIVE**"
      ],
      "metadata": {
        "id": "zXzEjdZ3C9jI"
      }
    },
    {
      "cell_type": "code",
      "source": [
        "from google.colab import drive\n",
        "import os\n",
        "import zipfile\n",
        "\n",
        "# Tentukan path file zip\n",
        "zip_path = '/content/DATASET.zip'  # Ganti dengan path file zip yang sesuai\n",
        "\n",
        "# Ekstrak file zip\n",
        "with zipfile.ZipFile(zip_path, 'r') as zip_ref:\n",
        "    zip_ref.extractall('/content/')  # Ganti dengan folder tujuan ekstraksi yang diinginkan\n",
        "\n",
        "# Menghubungkan ke Google Drive\n",
        "#drive.mount('/content/drive')\n",
        "\n",
        "# Menentukan path lengkap ke dataset di Google Drive\n",
        "#dataset_dir = '/content/drive/MyDrive/DATASET'\n",
        "\n"
      ],
      "metadata": {
        "id": "7zRTTm4RHKvv"
      },
      "execution_count": 9,
      "outputs": []
    },
    {
      "cell_type": "markdown",
      "source": [
        "**CEK FOLDER**"
      ],
      "metadata": {
        "id": "PcytCydCD_Od"
      }
    },
    {
      "cell_type": "code",
      "source": [
        "!ls \"/content/\"\n",
        "# "
      ],
      "metadata": {
        "id": "Z2fWWN-HEIKh",
        "outputId": "5a90f10a-4bdc-4850-99f2-184418a7f76b",
        "colab": {
          "base_uri": "https://localhost:8080/"
        }
      },
      "execution_count": 10,
      "outputs": [
        {
          "output_type": "stream",
          "name": "stdout",
          "text": [
            "DATASET  DATASET.zip  sample_data\n"
          ]
        }
      ]
    },
    {
      "cell_type": "markdown",
      "source": [
        "**SET DIRECTORY**"
      ],
      "metadata": {
        "id": "_x8L1i9JFUxx"
      }
    },
    {
      "cell_type": "code",
      "source": [
        "import os\n",
        "base_dir = \"/content/DATASET\"\n",
        "\n",
        "\n",
        "train_dir = os.path.join(base_dir, 'TRAIN')\n",
        "validation_dir = os.path.join(base_dir, 'VALIDATION')\n",
        "\n",
        "\n",
        "#TRAIN\n",
        "train_whitespot_dir = os.path.join(train_dir, 'WHITESPOT')\n",
        "train_aeromonas_dir = os.path.join(train_dir, 'AEROMONAS')\n",
        "train_backterialfin_dir = os.path.join(train_dir, 'BACTERIALFIN')\n",
        "train_redspot_dir = os.path.join(train_dir, 'REDSPOT')\n",
        "train_healthy_dir = os.path.join(train_dir, 'HEALTHY')\n",
        "\n",
        "#VALIDATION\n",
        "validation_whitespot_dir = os.path.join(train_dir, 'WHITESPOT')\n",
        "validation_aeromonas_dir = os.path.join(train_dir, 'AEROMONAS')\n",
        "validation_backterialfin_dir = os.path.join(train_dir, 'BACTERIALFIN')\n",
        "validation_redspot_dir = os.path.join(train_dir, 'REDSPOT')\n",
        "validation_healthy_dir = os.path.join(train_dir, 'HEALTHY')\n",
        "\n",
        "#TEST\n",
        "#test_dir = os.path.join(base_dir, 'TEST')\n"
      ],
      "metadata": {
        "id": "YSV0B1d-LTFP"
      },
      "execution_count": 11,
      "outputs": []
    },
    {
      "cell_type": "code",
      "source": [
        "print(\"Contents of base directory:\")\n",
        "print(os.listdir(base_dir))"
      ],
      "metadata": {
        "colab": {
          "base_uri": "https://localhost:8080/"
        },
        "id": "fdxBfYnmLmdb",
        "outputId": "01caf604-6a4a-4d91-fdc2-4cb322890a2d"
      },
      "execution_count": 12,
      "outputs": [
        {
          "output_type": "stream",
          "name": "stdout",
          "text": [
            "Contents of base directory:\n",
            "['TEST', 'TRAIN', 'VALIDATION']\n"
          ]
        }
      ]
    },
    {
      "cell_type": "markdown",
      "source": [
        "**CEK ISI DATASET**"
      ],
      "metadata": {
        "id": "QRjcxk0xIfGe"
      }
    },
    {
      "cell_type": "code",
      "source": [
        "train_whitespot_fnames = os.listdir(train_whitespot_dir)\n",
        "print(train_whitespot_fnames[:5])\n",
        "\n",
        "train_aeromonas_fnames = os.listdir(train_aeromonas_dir)\n",
        "print(train_aeromonas_fnames[:5])\n",
        "\n",
        "train_bacterial_fnames = os.listdir(train_backterialfin_dir)\n",
        "print(train_bacterial_fnames[:5])\n",
        "\n",
        "#==========================================\n",
        "\n",
        "print('total training WHITESPOT images:', len(os.listdir(train_whitespot_dir)))\n",
        "print('total training AEROMONAS images:', len(os.listdir(train_aeromonas_dir)))\n",
        "print('total training BACTERIALFIN images:', len(os.listdir(train_backterialfin_dir)))\n",
        "print('total training REDSPOT images:', len(os.listdir(train_redspot_dir)))\n",
        "print('total training HEALTHY images:', len(os.listdir(train_healthy_dir)))"
      ],
      "metadata": {
        "colab": {
          "base_uri": "https://localhost:8080/"
        },
        "id": "9XoMDgp7HYMr",
        "outputId": "cad806c9-9b41-4137-9fc7-905ad3230c97"
      },
      "execution_count": 13,
      "outputs": [
        {
          "output_type": "stream",
          "name": "stdout",
          "text": [
            "['download (9).jpg', 'images (17).jpg', 'download (1).jpg', 'Copy of white-spot-pada-ikan.jpg', 'images (10).jpg']\n",
            "['7.jpg', '4.JPG', '1.jpg', '2.jpg', '31.jpg']\n",
            "['1.JPG', '3.JPG']\n",
            "total training WHITESPOT images: 37\n",
            "total training AEROMONAS images: 8\n",
            "total training BACTERIALFIN images: 2\n",
            "total training REDSPOT images: 31\n",
            "total training HEALTHY images: 20\n"
          ]
        }
      ]
    },
    {
      "cell_type": "code",
      "source": [
        "from tensorflow.keras.preprocessing.image import ImageDataGenerator\n",
        "\n",
        "# Membuat objek ImageDataGenerator dengan konfigurasi augmentasi gambar\n",
        "train_datagen = ImageDataGenerator(\n",
        "    rescale=1./255,  # Skala piksel ke range 0-1\n",
        "    rotation_range=20,  # Rotasi gambar dalam range 20 derajat\n",
        "    width_shift_range=0.2,  # Geser gambar secara horizontal\n",
        "    height_shift_range=0.2,  # Geser gambar secara vertikal\n",
        "    shear_range=0.2,  # Menggeser gambar secara shear\n",
        "    zoom_range=0.2,  # Perbesar/perkecil gambar\n",
        "    horizontal_flip=True,  # Flip gambar secara horizontal\n",
        "    vertical_flip=True  # Flip gambar secara vertikal\n",
        ")\n",
        "\n",
        "# Menggunakan objek ImageDataGenerator untuk memuat dan augmentasi data pelatihan\n",
        "train_generator = train_datagen.flow_from_directory(\n",
        "    '/content/DATASET/TRAIN',\n",
        "    target_size=(224, 224),  # Ukuran gambar yang diharapkan\n",
        "    batch_size=32,  # Jumlah sampel dalam setiap batch\n",
        "    class_mode='categorical'  # Mode klasifikasi multikelas\n",
        ")\n"
      ],
      "metadata": {
        "id": "uq9YRr479G_A",
        "outputId": "4eebcc93-cd08-45c1-c54a-480327ec39b7",
        "colab": {
          "base_uri": "https://localhost:8080/"
        }
      },
      "execution_count": 14,
      "outputs": [
        {
          "output_type": "stream",
          "name": "stdout",
          "text": [
            "Found 97 images belonging to 5 classes.\n"
          ]
        }
      ]
    },
    {
      "cell_type": "code",
      "source": [
        "import tensorflow as tf\n",
        "from tensorflow.keras import layers\n",
        "from tensorflow.keras.layers import Dense, Dropout\n",
        "# Membangun model CNN\n",
        "model = tf.keras.Sequential()\n",
        "\n",
        "# Layer konvolusi pertama\n",
        "model.add(layers.Conv2D(32, (3, 3), activation='relu', input_shape=(224, 224, 3)))\n",
        "model.add(layers.MaxPooling2D((2, 2)))\n",
        "model.add(Dropout(0.25))\n",
        "\n",
        "\n",
        "# Layer konvolusi kedua\n",
        "model.add(layers.Conv2D(64, (3, 3), activation='relu'))\n",
        "model.add(layers.MaxPooling2D((2, 2)))\n",
        "model.add(Dropout(0.25))\n",
        "\n",
        "# Layer konvolusi ketiga\n",
        "model.add(layers.Conv2D(128, (3, 3), activation='relu'))\n",
        "model.add(layers.MaxPooling2D((2, 2)))\n",
        "model.add(Dropout(0.25))\n",
        "\n",
        "\n",
        "# Layer konvolusi keempat\n",
        "model.add(layers.Conv2D(256, (3, 3), activation='relu'))\n",
        "model.add(layers.MaxPooling2D((2, 2)))\n",
        "model.add(Dropout(0.25))\n",
        "\n",
        "\n",
        "# Layer flatten\n",
        "model.add(layers.Flatten())\n",
        "\n",
        "# Layer fully connected\n",
        "model.add(layers.Dense(512, activation='relu'))\n",
        "model.add(layers.Dense(256, activation='relu'))\n",
        "\n",
        "# Layer output\n",
        "model.add(layers.Dense(5, activation='softmax'))\n",
        "\n",
        "# Menampilkan ringkasan model\n",
        "model.summary()\n"
      ],
      "metadata": {
        "id": "Mp-BQOuW9BZP",
        "outputId": "153523bd-d6d3-4489-8a0e-55e150c3ec34",
        "colab": {
          "base_uri": "https://localhost:8080/"
        }
      },
      "execution_count": 15,
      "outputs": [
        {
          "output_type": "stream",
          "name": "stdout",
          "text": [
            "Model: \"sequential_2\"\n",
            "_________________________________________________________________\n",
            " Layer (type)                Output Shape              Param #   \n",
            "=================================================================\n",
            " conv2d_8 (Conv2D)           (None, 222, 222, 32)      896       \n",
            "                                                                 \n",
            " max_pooling2d_8 (MaxPooling  (None, 111, 111, 32)     0         \n",
            " 2D)                                                             \n",
            "                                                                 \n",
            " dropout_3 (Dropout)         (None, 111, 111, 32)      0         \n",
            "                                                                 \n",
            " conv2d_9 (Conv2D)           (None, 109, 109, 64)      18496     \n",
            "                                                                 \n",
            " max_pooling2d_9 (MaxPooling  (None, 54, 54, 64)       0         \n",
            " 2D)                                                             \n",
            "                                                                 \n",
            " dropout_4 (Dropout)         (None, 54, 54, 64)        0         \n",
            "                                                                 \n",
            " conv2d_10 (Conv2D)          (None, 52, 52, 128)       73856     \n",
            "                                                                 \n",
            " max_pooling2d_10 (MaxPoolin  (None, 26, 26, 128)      0         \n",
            " g2D)                                                            \n",
            "                                                                 \n",
            " dropout_5 (Dropout)         (None, 26, 26, 128)       0         \n",
            "                                                                 \n",
            " conv2d_11 (Conv2D)          (None, 24, 24, 256)       295168    \n",
            "                                                                 \n",
            " max_pooling2d_11 (MaxPoolin  (None, 12, 12, 256)      0         \n",
            " g2D)                                                            \n",
            "                                                                 \n",
            " flatten_2 (Flatten)         (None, 36864)             0         \n",
            "                                                                 \n",
            " dense_6 (Dense)             (None, 512)               18874880  \n",
            "                                                                 \n",
            " dense_7 (Dense)             (None, 256)               131328    \n",
            "                                                                 \n",
            " dense_8 (Dense)             (None, 5)                 1285      \n",
            "                                                                 \n",
            "=================================================================\n",
            "Total params: 19,395,909\n",
            "Trainable params: 19,395,909\n",
            "Non-trainable params: 0\n",
            "_________________________________________________________________\n"
          ]
        }
      ]
    },
    {
      "cell_type": "code",
      "source": [
        "import tensorflow as tf\n",
        "from tensorflow.keras.optimizers import Adam\n",
        "\n",
        "\n",
        "\n",
        "\n",
        "# Mendefinisikan optimizer kompleks\n",
        "optimizer = Adam(\n",
        "    learning_rate=0.001,  # Tingkat pembelajaran\n",
        "    beta_1=0.9,  # Faktor untuk menghitung momen pertama\n",
        "    beta_2=0.999,  # Faktor untuk menghitung momen kedua\n",
        "    epsilon=1e-07,  # Nilai kecil untuk memastikan pembagian yang aman\n",
        "    amsgrad=False  # Penggunaan amsgrad (Opsional)\n",
        ")\n",
        "\n"
      ],
      "metadata": {
        "id": "pY-Z7MaY9SEg"
      },
      "execution_count": 16,
      "outputs": []
    },
    {
      "cell_type": "code",
      "source": [
        "from tensorflow.keras.optimizers import Adam\n",
        "import matplotlib.pyplot as plt\n",
        "\n",
        "image_width = 224\n",
        "image_height = 224\n",
        "batch_size = 32\n",
        "\n",
        "validation_datagen = ImageDataGenerator(rescale=1./255)\n",
        "# Definisikan validation data generator\n",
        "val_generator = validation_datagen.flow_from_directory(\n",
        "    validation_dir,\n",
        "    target_size=(image_width, image_height),\n",
        "    batch_size=batch_size,\n",
        "    class_mode='categorical')\n",
        "\n",
        "# Definisikan optimizer kompleks\n",
        "optimizer = Adam(\n",
        "    learning_rate=0.001,\n",
        "    beta_1=0.9,\n",
        "    beta_2=0.999,\n",
        "    epsilon=1e-07,\n",
        "    amsgrad=False\n",
        ")\n",
        "\n",
        "# Mengompilasi model dengan optimizer kompleks\n",
        "model.compile(\n",
        "    optimizer=optimizer,\n",
        "    loss='categorical_crossentropy',\n",
        "    metrics=['accuracy']\n",
        ")\n",
        "\n",
        "# Melatih model dan mendapatkan objek history\n",
        "history = model.fit(train_generator, steps_per_epoch=len(train_generator), epochs=50, validation_data=val_generator, validation_steps=len(val_generator))\n",
        "\n",
        "\n",
        "\n"
      ],
      "metadata": {
        "id": "nnsJN97g9pjC",
        "outputId": "bbd11628-8d02-4dae-9539-c03db466cfc8",
        "colab": {
          "base_uri": "https://localhost:8080/"
        }
      },
      "execution_count": null,
      "outputs": [
        {
          "output_type": "stream",
          "name": "stdout",
          "text": [
            "Found 115 images belonging to 5 classes.\n",
            "Epoch 1/50\n",
            "4/4 [==============================] - 24s 6s/step - loss: 3.5236 - accuracy: 0.3093 - val_loss: 1.5981 - val_accuracy: 0.2696\n",
            "Epoch 2/50\n",
            "4/4 [==============================] - 21s 7s/step - loss: 1.5345 - accuracy: 0.1959 - val_loss: 1.5649 - val_accuracy: 0.3043\n",
            "Epoch 3/50\n",
            "4/4 [==============================] - 30s 8s/step - loss: 1.4530 - accuracy: 0.3814 - val_loss: 1.5511 - val_accuracy: 0.2696\n",
            "Epoch 4/50\n",
            "4/4 [==============================] - 23s 5s/step - loss: 1.4478 - accuracy: 0.3196 - val_loss: 1.5756 - val_accuracy: 0.2696\n",
            "Epoch 5/50\n",
            "4/4 [==============================] - 21s 5s/step - loss: 1.4571 - accuracy: 0.2784 - val_loss: 1.5775 - val_accuracy: 0.3130\n",
            "Epoch 6/50\n",
            "4/4 [==============================] - 27s 9s/step - loss: 1.4442 - accuracy: 0.3711 - val_loss: 1.5630 - val_accuracy: 0.3130\n",
            "Epoch 7/50\n",
            "4/4 [==============================] - 21s 5s/step - loss: 1.3992 - accuracy: 0.3711 - val_loss: 1.5534 - val_accuracy: 0.3130\n",
            "Epoch 8/50\n",
            "4/4 [==============================] - 20s 5s/step - loss: 1.4804 - accuracy: 0.3711 - val_loss: 1.5486 - val_accuracy: 0.3130\n",
            "Epoch 9/50\n",
            "4/4 [==============================] - 22s 7s/step - loss: 1.4131 - accuracy: 0.3093 - val_loss: 1.5366 - val_accuracy: 0.2696\n",
            "Epoch 10/50\n",
            "4/4 [==============================] - 21s 5s/step - loss: 1.3891 - accuracy: 0.3196 - val_loss: 1.5454 - val_accuracy: 0.2696\n",
            "Epoch 11/50\n",
            "4/4 [==============================] - 24s 8s/step - loss: 1.4511 - accuracy: 0.3196 - val_loss: 1.5639 - val_accuracy: 0.2696\n",
            "Epoch 12/50\n",
            "4/4 [==============================] - 20s 7s/step - loss: 1.4837 - accuracy: 0.3196 - val_loss: 1.5568 - val_accuracy: 0.2696\n",
            "Epoch 13/50\n",
            "4/4 [==============================] - 25s 5s/step - loss: 1.4647 - accuracy: 0.3196 - val_loss: 1.5402 - val_accuracy: 0.2696\n",
            "Epoch 14/50\n",
            "4/4 [==============================] - 25s 8s/step - loss: 1.4023 - accuracy: 0.3196 - val_loss: 1.5275 - val_accuracy: 0.2696\n",
            "Epoch 15/50\n",
            "4/4 [==============================] - 26s 7s/step - loss: 1.3802 - accuracy: 0.3196 - val_loss: 1.5355 - val_accuracy: 0.2696\n",
            "Epoch 16/50\n",
            "4/4 [==============================] - 23s 6s/step - loss: 1.3630 - accuracy: 0.3196 - val_loss: 1.5463 - val_accuracy: 0.2696\n",
            "Epoch 17/50\n",
            "4/4 [==============================] - 26s 7s/step - loss: 1.3650 - accuracy: 0.3196 - val_loss: 1.5576 - val_accuracy: 0.1739\n",
            "Epoch 18/50\n",
            "4/4 [==============================] - 26s 7s/step - loss: 1.3887 - accuracy: 0.2062 - val_loss: 1.5746 - val_accuracy: 0.1739\n",
            "Epoch 19/50\n",
            "4/4 [==============================] - 21s 5s/step - loss: 1.3891 - accuracy: 0.2990 - val_loss: 1.5529 - val_accuracy: 0.3130\n",
            "Epoch 20/50\n",
            "4/4 [==============================] - 20s 5s/step - loss: 1.3946 - accuracy: 0.3711 - val_loss: 1.5411 - val_accuracy: 0.3130\n",
            "Epoch 21/50\n",
            "4/4 [==============================] - 25s 6s/step - loss: 1.4077 - accuracy: 0.3711 - val_loss: 1.5493 - val_accuracy: 0.3130\n",
            "Epoch 22/50\n",
            "2/4 [==============>...............] - ETA: 9s - loss: 1.4135 - accuracy: 0.3636"
          ]
        }
      ]
    },
    {
      "cell_type": "code",
      "source": [
        "import matplotlib.pyplot as plt\n",
        "\n",
        "# Membuat grafik akurasi dan loss\n",
        "plot_accuracy_and_loss(history)\n",
        "    \n"
      ],
      "metadata": {
        "id": "x0rLwmLM-9LS"
      },
      "execution_count": null,
      "outputs": []
    },
    {
      "cell_type": "markdown",
      "source": [
        "**==========================SAVE MODEL==========================**"
      ],
      "metadata": {
        "id": "-3gy2gKjYksn"
      }
    },
    {
      "cell_type": "code",
      "source": [
        "from tensorflow.keras.models import save_model\n",
        "\n",
        "def save_model_to_file(model, file_path):\n",
        "    \"\"\"\n",
        "    Menyimpan model ke file.\n",
        "    \n",
        "    Args:\n",
        "        model (tf.keras.Model): Model yang akan disimpan.\n",
        "        file_path (str): Path file untuk menyimpan model.\n",
        "    \"\"\"\n",
        "    save_model(model, file_path)\n",
        "    print(f\"Model berhasil disimpan ke file: {file_path}\")\n"
      ],
      "metadata": {
        "id": "mlVMXUjA-jlD"
      },
      "execution_count": null,
      "outputs": []
    },
    {
      "cell_type": "code",
      "source": [
        "# Simpan model ke file\n",
        "save_model_to_file(model, 'path/to/model.h5')"
      ],
      "metadata": {
        "id": "ZlpSk8i0pUOt"
      },
      "execution_count": null,
      "outputs": []
    },
    {
      "cell_type": "markdown",
      "source": [
        "**==========================PREDIKSI MODEL ==========================**"
      ],
      "metadata": {
        "id": "sK6WiCwWYud-"
      }
    },
    {
      "cell_type": "code",
      "source": [
        "from tensorflow.keras.models import load_model\n",
        "from tensorflow.keras.preprocessing import image\n",
        "import numpy as np\n",
        "\n",
        "# Load the trained model\n",
        "model = load_model('/content/path/to/model.h5')\n",
        "\n",
        "\n",
        "def preprocess_image(image_path, target_size):\n",
        "    img = image.load_img(image_path, target_size=target_size)\n",
        "    img = image.img_to_array(img)\n",
        "    img = np.expand_dims(img, axis=0)\n",
        "    img = img / 255.0  # Normalize gamabr\n",
        "    return img\n",
        "\n",
        "\n",
        "def predict_image(image_path, target_size):\n",
        "    img = preprocess_image(image_path, target_size)\n",
        "    pred = model.predict(img)\n",
        "    class_indices = train_generator.class_indices\n",
        "    predicted_class = list(class_indices.keys())[np.argmax(pred)]\n",
        "    confidence = np.max(pred) * 100\n",
        "    return predicted_class, confidence\n",
        "\n",
        "\n",
        "image_path = '/content/DATASET/TEST/images.jpeg'\n",
        "target_size = (224, 224)  #target\n",
        "\n",
        "predicted_class, confidence = predict_image(image_path, target_size)\n",
        "print('Predicted class:', predicted_class)\n",
        "print('Confidence:', confidence)\n"
      ],
      "metadata": {
        "id": "4Wq23nJKLKm4"
      },
      "execution_count": null,
      "outputs": []
    }
  ]
}